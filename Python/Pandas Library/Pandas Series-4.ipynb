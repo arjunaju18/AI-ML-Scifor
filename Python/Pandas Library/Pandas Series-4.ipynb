{
 "cells": [
  {
   "cell_type": "markdown",
   "id": "3f26f566-50a0-43dd-b24d-d5a14d993d72",
   "metadata": {},
   "source": [
    "## Write a code for Creating a Series from Scalar Value."
   ]
  },
  {
   "cell_type": "code",
   "execution_count": 1,
   "id": "3558dc4e-5955-4405-b7f2-7bf558683f16",
   "metadata": {},
   "outputs": [],
   "source": [
    "import pandas as pd\n",
    "import numpy as np"
   ]
  },
  {
   "cell_type": "code",
   "execution_count": 2,
   "id": "559d8394-1bfd-4e82-a94b-089d5c174370",
   "metadata": {},
   "outputs": [
    {
     "name": "stdout",
     "output_type": "stream",
     "text": [
      "Series with default index:\n",
      "0    5\n",
      "dtype: int64\n",
      "\n",
      "Series with custom index:\n"
     ]
    },
    {
     "ename": "NameError",
     "evalue": "name 'scalar_series_custom_index' is not defined",
     "output_type": "error",
     "traceback": [
      "\u001b[1;31m---------------------------------------------------------------------------\u001b[0m",
      "\u001b[1;31mNameError\u001b[0m                                 Traceback (most recent call last)",
      "Cell \u001b[1;32mIn[2], line 7\u001b[0m\n\u001b[0;32m      5\u001b[0m scalar_series_custom\u001b[38;5;241m=\u001b[39m pd\u001b[38;5;241m.\u001b[39mSeries(\u001b[38;5;241m5\u001b[39m, index\u001b[38;5;241m=\u001b[39m[\u001b[38;5;124m'\u001b[39m\u001b[38;5;124ma\u001b[39m\u001b[38;5;124m'\u001b[39m, \u001b[38;5;124m'\u001b[39m\u001b[38;5;124mb\u001b[39m\u001b[38;5;124m'\u001b[39m, \u001b[38;5;124m'\u001b[39m\u001b[38;5;124mc\u001b[39m\u001b[38;5;124m'\u001b[39m])         \u001b[38;5;66;03m#Series with custom index\u001b[39;00m\n\u001b[0;32m      6\u001b[0m \u001b[38;5;28mprint\u001b[39m(\u001b[38;5;124m\"\u001b[39m\u001b[38;5;130;01m\\n\u001b[39;00m\u001b[38;5;124mSeries with custom index:\u001b[39m\u001b[38;5;124m\"\u001b[39m) \n\u001b[1;32m----> 7\u001b[0m \u001b[38;5;28mprint\u001b[39m(\u001b[43mscalar_series_custom_index\u001b[49m)\n",
      "\u001b[1;31mNameError\u001b[0m: name 'scalar_series_custom_index' is not defined"
     ]
    }
   ],
   "source": [
    "scalar_series= pd.Series(5)               #creating a series with default index\n",
    "print(\"Series with default index:\")\n",
    "print(scalar_series)\n",
    "\n",
    "scalar_series_custom= pd.Series(5, index=['a', 'b', 'c'])         #Series with custom index\n",
    "print(\"\\nSeries with custom index:\") \n",
    "print(scalar_series_custom)"
   ]
  },
  {
   "cell_type": "code",
   "execution_count": null,
   "id": "db80c6e7-ef6f-456b-95ac-81e284847d6d",
   "metadata": {},
   "outputs": [],
   "source": []
  }
 ],
 "metadata": {
  "kernelspec": {
   "display_name": "Python 3 (ipykernel)",
   "language": "python",
   "name": "python3"
  },
  "language_info": {
   "codemirror_mode": {
    "name": "ipython",
    "version": 3
   },
   "file_extension": ".py",
   "mimetype": "text/x-python",
   "name": "python",
   "nbconvert_exporter": "python",
   "pygments_lexer": "ipython3",
   "version": "3.11.5"
  }
 },
 "nbformat": 4,
 "nbformat_minor": 5
}
