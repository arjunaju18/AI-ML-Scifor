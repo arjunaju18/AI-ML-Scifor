{
 "cells": [
  {
   "cell_type": "code",
   "execution_count": 1,
   "id": "101b7697-be50-4ca1-b7f2-20e7e6c4cb37",
   "metadata": {},
   "outputs": [],
   "source": [
    "import pandas as pd\n",
    "import numpy as np"
   ]
  },
  {
   "cell_type": "code",
   "execution_count": 2,
   "id": "2dd06950-18d9-44af-8cea-45a6dbced4f0",
   "metadata": {},
   "outputs": [],
   "source": [
    "#Question 1"
   ]
  },
  {
   "cell_type": "code",
   "execution_count": 7,
   "id": "933820bf-0fcd-4bf0-950a-6c4026a1c724",
   "metadata": {},
   "outputs": [
    {
     "name": "stdout",
     "output_type": "stream",
     "text": [
      "After Modification:\n",
      "Section 1    150\n",
      "Section 2     25\n",
      "Section 3     75\n",
      "Section 4    250\n",
      "Section 5    300\n",
      "dtype: int64\n"
     ]
    }
   ],
   "source": [
    "sections = ['Section 1', 'Section 2', 'Section 3', 'Section 4', 'Section 5']\n",
    "candidates = [150, 50, 75, 200, 350]\n",
    "Candidates_S = pd.Series(candidates, index = sections)\n",
    "\n",
    "#modify values of 2nd, 4th and 5th\n",
    "\n",
    "Candidates_S['Section 2'] = 25\n",
    "Candidates_S['Section 4':'Section 5'] = [250, 300]\n",
    "\n",
    "print(\"After Modification:\")\n",
    "print(Candidates_S)"
   ]
  },
  {
   "cell_type": "code",
   "execution_count": 8,
   "id": "de713589-522c-4fb3-a7c9-b1362a8efdfe",
   "metadata": {},
   "outputs": [],
   "source": [
    "#Question 2"
   ]
  },
  {
   "cell_type": "code",
   "execution_count": 9,
   "id": "8d3b0fe7-3189-43e8-b8f3-ee9e7a6e83aa",
   "metadata": {},
   "outputs": [
    {
     "name": "stdout",
     "output_type": "stream",
     "text": [
      "Total number of Students:\n",
      "Sciecne       270\n",
      "Commerce      135\n",
      "Humanities    180\n",
      "dtype: int64\n"
     ]
    }
   ],
   "source": [
    "A1 = pd.Series({'Sciecne': 120, 'Commerce': 75, 'Humanities': 100})\n",
    "A2 = pd.Series({'Sciecne': 150, 'Commerce': 60, 'Humanities': 80})\n",
    "\n",
    "total_students = A1 + A2\n",
    "print(\"Total number of Students:\")\n",
    "print(total_students)"
   ]
  },
  {
   "cell_type": "code",
   "execution_count": 10,
   "id": "2a84a29d-1125-41e9-a442-399f44f54e1d",
   "metadata": {},
   "outputs": [],
   "source": [
    "#Question 3"
   ]
  },
  {
   "cell_type": "code",
   "execution_count": 11,
   "id": "d4c22f0b-05bd-449b-9b50-3623fe3138a0",
   "metadata": {},
   "outputs": [
    {
     "name": "stdout",
     "output_type": "stream",
     "text": [
      "Income per capita for each city:\n",
      "Chennai      0.075000\n",
      "Delhi        0.200000\n",
      "Mumbai       0.128571\n",
      "Bangalore    0.080000\n",
      "dtype: float64\n"
     ]
    }
   ],
   "source": [
    "population = pd.Series({'Chennai': 200000, 'Delhi': 150000, 'Mumbai': 350000, 'Bangalore': 750000})\n",
    "avg_income = pd.Series({'Chennai': 15000, 'Delhi': 30000, 'Mumbai': 45000, 'Bangalore': 60000})\n",
    "\n",
    "income_per_capita = avg_income / population\n",
    "print(\"Income per capita for each city:\")\n",
    "print(income_per_capita)"
   ]
  },
  {
   "cell_type": "code",
   "execution_count": 12,
   "id": "9a499310-cfd7-4184-9e3d-1a6fa7cb986f",
   "metadata": {},
   "outputs": [],
   "source": [
    "#Question 4"
   ]
  },
  {
   "cell_type": "code",
   "execution_count": 14,
   "id": "2ade9b49-bb34-412d-a99d-101ba3df17c1",
   "metadata": {},
   "outputs": [
    {
     "name": "stdout",
     "output_type": "stream",
     "text": [
      "Sections with contributions greater than 8000:\n",
      "[A    False\n",
      "B     True\n",
      "C     True\n",
      "D     True\n",
      "dtype: bool]\n"
     ]
    }
   ],
   "source": [
    "sections = ['A', 'B', 'C', 'D']\n",
    "contributions = [7500, 9000, 8200, 9500]\n",
    "contributions_series = pd.Series(contributions, index=sections)\n",
    "\n",
    "greater_than_8000 = [contributions_series > 8000]\n",
    "print(\"Sections with contributions greater than 8000:\")\n",
    "print(greater_than_8000)"
   ]
  },
  {
   "cell_type": "code",
   "execution_count": null,
   "id": "46968174-9577-47e4-b43c-458f9fdd781a",
   "metadata": {},
   "outputs": [],
   "source": []
  }
 ],
 "metadata": {
  "kernelspec": {
   "display_name": "Python 3 (ipykernel)",
   "language": "python",
   "name": "python3"
  },
  "language_info": {
   "codemirror_mode": {
    "name": "ipython",
    "version": 3
   },
   "file_extension": ".py",
   "mimetype": "text/x-python",
   "name": "python",
   "nbconvert_exporter": "python",
   "pygments_lexer": "ipython3",
   "version": "3.11.5"
  }
 },
 "nbformat": 4,
 "nbformat_minor": 5
}
