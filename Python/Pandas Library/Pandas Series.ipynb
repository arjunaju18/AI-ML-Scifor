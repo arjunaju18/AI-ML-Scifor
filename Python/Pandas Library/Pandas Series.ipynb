{
 "cells": [
  {
   "cell_type": "code",
   "execution_count": 1,
   "id": "99801027-6adf-492b-93de-0164a25775a7",
   "metadata": {},
   "outputs": [],
   "source": [
    "import pandas as pd\n",
    "import numpy as np"
   ]
  },
  {
   "cell_type": "code",
   "execution_count": 2,
   "id": "be88086b-1dc1-4111-9d4f-1f2cd75cd1a1",
   "metadata": {},
   "outputs": [],
   "source": [
    "#Series list"
   ]
  },
  {
   "cell_type": "code",
   "execution_count": 4,
   "id": "06f6bffd-f7da-4c0b-bb99-ae1dd3cdfdf2",
   "metadata": {},
   "outputs": [
    {
     "name": "stdout",
     "output_type": "stream",
     "text": [
      "0     Apple\n",
      "1    Orange\n",
      "2     Grape\n",
      "3    Banana\n",
      "dtype: object\n"
     ]
    }
   ],
   "source": [
    "list = [\"Apple\", \"Orange\", \"Grape\", \"Banana\"]\n",
    "ser = pd.Series(list)\n",
    "print(ser)"
   ]
  },
  {
   "cell_type": "code",
   "execution_count": 5,
   "id": "157c7852-0d5c-46ce-837f-ae78b2b1a027",
   "metadata": {},
   "outputs": [],
   "source": [
    "#question 2"
   ]
  },
  {
   "cell_type": "code",
   "execution_count": 6,
   "id": "b339e5df-7aee-4cbb-b52a-2286f457527d",
   "metadata": {},
   "outputs": [
    {
     "name": "stdout",
     "output_type": "stream",
     "text": [
      "Q1    30000\n",
      "Q2    30000\n",
      "Q3    30000\n",
      "Q4    30000\n",
      "dtype: int64\n"
     ]
    }
   ],
   "source": [
    "quater = ['Q1', 'Q2', 'Q3', 'Q4']\n",
    "start_budget = 30000\n",
    "ser1 = pd.Series(start_budget, index = quater)\n",
    "print(ser1)"
   ]
  },
  {
   "cell_type": "code",
   "execution_count": 7,
   "id": "abd7e302-f45e-4e24-be76-8358c643bfc3",
   "metadata": {},
   "outputs": [],
   "source": [
    "#array"
   ]
  },
  {
   "cell_type": "code",
   "execution_count": 8,
   "id": "7fa93a97-ef0f-4b6f-b2d2-ef6e1e46ad22",
   "metadata": {},
   "outputs": [
    {
     "name": "stdout",
     "output_type": "stream",
     "text": [
      "0      0\n",
      "1      7\n",
      "2     14\n",
      "3     21\n",
      "4     28\n",
      "5     35\n",
      "6     42\n",
      "7     49\n",
      "8     56\n",
      "9     63\n",
      "10    70\n",
      "dtype: int32\n"
     ]
    }
   ],
   "source": [
    "elements = np.arange(0,71,7)\n",
    "ser2 = pd.Series(elements)\n",
    "print(ser2)"
   ]
  },
  {
   "cell_type": "code",
   "execution_count": 9,
   "id": "19020340-d503-43aa-84c6-e31e0575717e",
   "metadata": {},
   "outputs": [],
   "source": [
    "#Dictionary"
   ]
  },
  {
   "cell_type": "code",
   "execution_count": 10,
   "id": "f18d53d1-2397-4b00-bbf5-455497694623",
   "metadata": {},
   "outputs": [
    {
     "name": "stdout",
     "output_type": "stream",
     "text": [
      "Section A    85\n",
      "Section B    75\n",
      "Section C    90\n",
      "Section D    80\n",
      "dtype: int64\n"
     ]
    }
   ],
   "source": [
    "hindi_marks = {'Section A' : 85, 'Section B' : 75, 'Section C': 90, 'Section D': 80}\n",
    "ser3 = pd.Series(hindi_marks)\n",
    "print(ser3)"
   ]
  },
  {
   "cell_type": "code",
   "execution_count": 11,
   "id": "37e3ca35-83df-4100-b847-5582e4468a2b",
   "metadata": {},
   "outputs": [],
   "source": [
    "#Question 5"
   ]
  },
  {
   "cell_type": "code",
   "execution_count": 13,
   "id": "b15926ae-37ab-4d38-a69f-082b32f7b7c3",
   "metadata": {},
   "outputs": [
    {
     "name": "stdout",
     "output_type": "stream",
     "text": [
      "Exam Questions Per Year:\n",
      "2002    200\n",
      "2004    200\n",
      "2006    200\n",
      "2008    200\n",
      "2010    200\n",
      "2012    200\n",
      "2014    200\n",
      "2016    200\n",
      "2018    200\n",
      "2020    200\n",
      "2022    200\n",
      "dtype: int64\n"
     ]
    }
   ],
   "source": [
    "start_year = 2002\n",
    "end_year = 2022\n",
    "exam_questions = pd.Series(200, index = range(start_year, end_year+1, 2))\n",
    "print(\"Exam Questions Per Year:\")\n",
    "print(exam_questions)"
   ]
  },
  {
   "cell_type": "code",
   "execution_count": null,
   "id": "c67d3e90-c9f5-48f7-a274-48f93666af36",
   "metadata": {},
   "outputs": [],
   "source": []
  }
 ],
 "metadata": {
  "kernelspec": {
   "display_name": "Python 3 (ipykernel)",
   "language": "python",
   "name": "python3"
  },
  "language_info": {
   "codemirror_mode": {
    "name": "ipython",
    "version": 3
   },
   "file_extension": ".py",
   "mimetype": "text/x-python",
   "name": "python",
   "nbconvert_exporter": "python",
   "pygments_lexer": "ipython3",
   "version": "3.11.5"
  }
 },
 "nbformat": 4,
 "nbformat_minor": 5
}
