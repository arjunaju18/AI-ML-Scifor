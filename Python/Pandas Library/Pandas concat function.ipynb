{
 "cells": [
  {
   "cell_type": "code",
   "execution_count": 2,
   "id": "4806c471-f044-4f01-8681-9d293c412184",
   "metadata": {},
   "outputs": [],
   "source": [
    "import pandas as pd"
   ]
  },
  {
   "cell_type": "code",
   "execution_count": 3,
   "id": "668b4386-41fd-43d9-82f7-02df544e4e79",
   "metadata": {},
   "outputs": [],
   "source": [
    "#Temperature data for each week stored in series\n",
    "temp1 = pd.Series([27, 29, 38, 36,32, 26, 30], index = ['Monday', 'Tuesday', 'Wednesday', 'Thursday', 'Friday', 'Saturday', 'Sunday'])\n",
    "temp2 = pd.Series([29, 26, 39, 32,35, 26, 30], index = ['Monday', 'Tuesday', 'Wednesday', 'Thursday', 'Friday', 'Saturday', 'Sunday'])\n",
    "temp3 = pd.Series([24, 29, 31, 35,39, 37, 36], index = ['Monday', 'Tuesday', 'Wednesday', 'Thursday', 'Friday', 'Saturday', 'Sunday'])\n",
    "temp4 = pd.Series([32, 36, 36, 31,38, 35, 39], index = ['Monday', 'Tuesday', 'Wednesday', 'Thursday', 'Friday', 'Saturday', 'Sunday'])"
   ]
  },
  {
   "cell_type": "code",
   "execution_count": 4,
   "id": "3a8bad98-3e34-4c5f-a713-b30563f72b02",
   "metadata": {},
   "outputs": [
    {
     "name": "stdout",
     "output_type": "stream",
     "text": [
      "Average temperature per week:\n",
      "Week 1: 31.142857142857142\n",
      "Week 2: 31.0\n",
      "Week 3: 33.0\n",
      "Week 4: 35.285714285714285\n"
     ]
    }
   ],
   "source": [
    "#Average temperature per week\n",
    "print(\"Average temperature per week:\")\n",
    "print(\"Week 1:\", temp1.mean())\n",
    "print(\"Week 2:\", temp2.mean())\n",
    "print(\"Week 3:\", temp3.mean())\n",
    "print(\"Week 4:\", temp4.mean())"
   ]
  },
  {
   "cell_type": "code",
   "execution_count": 5,
   "id": "6b713cf2-11f8-4c89-ae5f-2e8769f92709",
   "metadata": {},
   "outputs": [
    {
     "data": {
      "text/plain": [
       "<function print(*args, sep=' ', end='\\n', file=None, flush=False)>"
      ]
     },
     "execution_count": 5,
     "metadata": {},
     "output_type": "execute_result"
    }
   ],
   "source": [
    "#Average temperature of the entire month\n",
    "total_temp = pd.concat([temp1, temp2, temp3, temp4])\n",
    "print"
   ]
  },
  {
   "cell_type": "code",
   "execution_count": null,
   "id": "327ce16f-c95c-4ecd-8cca-bbdee451e426",
   "metadata": {},
   "outputs": [],
   "source": []
  }
 ],
 "metadata": {
  "kernelspec": {
   "display_name": "Python 3 (ipykernel)",
   "language": "python",
   "name": "python3"
  },
  "language_info": {
   "codemirror_mode": {
    "name": "ipython",
    "version": 3
   },
   "file_extension": ".py",
   "mimetype": "text/x-python",
   "name": "python",
   "nbconvert_exporter": "python",
   "pygments_lexer": "ipython3",
   "version": "3.11.5"
  }
 },
 "nbformat": 4,
 "nbformat_minor": 5
}
