{
 "cells": [
  {
   "cell_type": "code",
   "execution_count": 13,
   "id": "c482353c-5a94-4335-9a23-4cf193a2828e",
   "metadata": {},
   "outputs": [],
   "source": [
    "#question1"
   ]
  },
  {
   "cell_type": "code",
   "execution_count": null,
   "id": "ad823127-819d-47ea-a095-d76a81a40461",
   "metadata": {},
   "outputs": [],
   "source": [
    "import pandas as pd\n",
    "df = pd.read_csv('C:\\\\Users\\\\Ajupo\\\\Downloads\\\\details.csv')"
   ]
  },
  {
   "cell_type": "code",
   "execution_count": 4,
   "id": "6ea3ebd6-013d-4afd-be4c-d8bddcba7101",
   "metadata": {},
   "outputs": [
    {
     "name": "stdout",
     "output_type": "stream",
     "text": [
      "Data from csv file:\n",
      "      Name  Age\n",
      "0    Arjun   21\n",
      "1   Sandra   21\n",
      "2  Adwaith   22\n",
      "3     Filu   23\n",
      "4   Aleena   19\n"
     ]
    }
   ],
   "source": [
    "print(\"Data from csv file:\")\n",
    "print(df)"
   ]
  },
  {
   "cell_type": "code",
   "execution_count": 7,
   "id": "12d99d4b-dbc1-4ae0-85e4-834900b14479",
   "metadata": {},
   "outputs": [],
   "source": [
    "data = {\n",
    "    'Marks' : [85, 99, 75],\n",
    "    'Subject' : ['Maths', 'Science', 'Computer']\n",
    "}"
   ]
  },
  {
   "cell_type": "code",
   "execution_count": 10,
   "id": "04ab6981-7319-4b94-86bb-77ebea96b9af",
   "metadata": {},
   "outputs": [],
   "source": [
    "df = pd.DataFrame(data)"
   ]
  },
  {
   "cell_type": "code",
   "execution_count": 12,
   "id": "c9850735-d886-440e-85d8-52665be94ce3",
   "metadata": {},
   "outputs": [],
   "source": [
    "df.to_csv('C:\\\\Users\\\\Ajupo\\\\Downloads\\\\modified.csv', index=False)"
   ]
  },
  {
   "cell_type": "code",
   "execution_count": 14,
   "id": "ca4328dc-d3bc-4f0f-a42b-0fbc5293830b",
   "metadata": {},
   "outputs": [],
   "source": [
    "#Question2"
   ]
  },
  {
   "cell_type": "code",
   "execution_count": 15,
   "id": "b089f3ef-3cf5-413b-9d50-9ad88828e9c5",
   "metadata": {},
   "outputs": [],
   "source": [
    "import pandas as pd\n",
    "import numpy as np"
   ]
  },
  {
   "cell_type": "code",
   "execution_count": 16,
   "id": "439150c8-2e73-4844-a987-be06940c5863",
   "metadata": {},
   "outputs": [],
   "source": [
    "sales_data = {\n",
    "    'Q1': [10000, 15000, 75000],\n",
    "    'Q2': [25000, 30000, 20000],\n",
    "    'Q3': [50000, 10000, 8500],\n",
    "    'Q4': [12000, 16000, 9000]\n",
    "}"
   ]
  },
  {
   "cell_type": "code",
   "execution_count": 19,
   "id": "3a63fd87-f60d-4c1f-8ca8-981033ac1564",
   "metadata": {},
   "outputs": [
    {
     "name": "stdout",
     "output_type": "stream",
     "text": [
      "Sales Data:\n",
      "      Q1     Q2     Q3     Q4\n",
      "0  10000  25000  50000  12000\n",
      "1  15000  30000  10000  16000\n",
      "2  75000  20000   8500   9000\n"
     ]
    }
   ],
   "source": [
    "sales_df = pd.DataFrame(sales_data)\n",
    "print(\"Sales Data:\")\n",
    "print(sales_df)"
   ]
  },
  {
   "cell_type": "code",
   "execution_count": 20,
   "id": "6f87500c-dcd9-4bf2-b06e-0d7367d39724",
   "metadata": {},
   "outputs": [],
   "source": [
    "#Question 3"
   ]
  },
  {
   "cell_type": "code",
   "execution_count": 21,
   "id": "e077574b-729e-45d6-959a-9af2e96959fc",
   "metadata": {},
   "outputs": [],
   "source": [
    "sales_performance = [\n",
    "    {'South': 25000, 'North': 50000, 'East': 75000, 'West': 60000},\n",
    "    {'South': 10000, 'North': 25000, 'East': 100000, 'West': 6000},\n",
    "    {'South': 15000, 'North': 20000, 'East': 45000, 'West': 90000},\n",
    "]"
   ]
  },
  {
   "cell_type": "code",
   "execution_count": 22,
   "id": "a55a6755-b95f-444d-abd5-d18b5169792f",
   "metadata": {},
   "outputs": [
    {
     "name": "stdout",
     "output_type": "stream",
     "text": [
      "Zonal Sales performance:\n",
      "   South  North    East   West\n",
      "0  25000  50000   75000  60000\n",
      "1  10000  25000  100000   6000\n",
      "2  15000  20000   45000  90000\n"
     ]
    }
   ],
   "source": [
    "s_df = pd.DataFrame(sales_performance)\n",
    "print(\"Zonal Sales performance:\")\n",
    "print(s_df)"
   ]
  },
  {
   "cell_type": "code",
   "execution_count": 23,
   "id": "afd39e51-9063-4571-917d-847433f543bc",
   "metadata": {},
   "outputs": [],
   "source": [
    "#question -4"
   ]
  },
  {
   "cell_type": "code",
   "execution_count": 24,
   "id": "c116e947-2537-4244-a9d7-b87a831e8db9",
   "metadata": {},
   "outputs": [],
   "source": [
    "people_data = {\n",
    "    'Name': ['Nivin', 'Nitara', 'Akshay'],\n",
    "    'Age': [, 30, 35],\n",
    "    'Weight': [70.5, 65.2, 80.0]\n",
    "}"
   ]
  },
  {
   "cell_type": "code",
   "execution_count": null,
   "id": "0160fa2c-6fc4-4124-8140-5daf23331258",
   "metadata": {},
   "outputs": [],
   "source": []
  }
 ],
 "metadata": {
  "kernelspec": {
   "display_name": "Python 3 (ipykernel)",
   "language": "python",
   "name": "python3"
  },
  "language_info": {
   "codemirror_mode": {
    "name": "ipython",
    "version": 3
   },
   "file_extension": ".py",
   "mimetype": "text/x-python",
   "name": "python",
   "nbconvert_exporter": "python",
   "pygments_lexer": "ipython3",
   "version": "3.11.5"
  }
 },
 "nbformat": 4,
 "nbformat_minor": 5
}
