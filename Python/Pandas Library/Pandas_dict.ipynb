{
 "cells": [
  {
   "cell_type": "code",
   "execution_count": null,
   "id": "906fef5b-b9f0-496a-abb8-f1860f901b5d",
   "metadata": {},
   "outputs": [],
   "source": [
    "import pandas as pd\n",
    "\n",
    "# Creating a dictionary with salesman details\n",
    "salesman_data = {\n",
    "    'Name': ['Rahul', 'Hari', 'Anju', 'Gokul', 'Richard'],\n",
    "    'Zone': ['North', 'South', 'East', 'West', 'Central'],\n",
    "    'Sale': [15000, 20000, 18000, 22000, 17000]\n",
    "}\n",
    "\n",
    "# Create a DataFrame from the dictionary\n",
    "salesman_df = pd.DataFrame(salesman_data)\n",
    "\n",
    "# Print the DataFrame\n",
    "print(salesman_df)\n"
   ]
  }
 ],
 "metadata": {
  "kernelspec": {
   "display_name": "Python 3 (ipykernel)",
   "language": "python",
   "name": "python3"
  },
  "language_info": {
   "codemirror_mode": {
    "name": "ipython",
    "version": 3
   },
   "file_extension": ".py",
   "mimetype": "text/x-python",
   "name": "python",
   "nbconvert_exporter": "python",
   "pygments_lexer": "ipython3",
   "version": "3.11.5"
  }
 },
 "nbformat": 4,
 "nbformat_minor": 5
}
