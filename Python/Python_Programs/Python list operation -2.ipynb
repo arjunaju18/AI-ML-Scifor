{
 "cells": [
  {
   "cell_type": "code",
   "execution_count": 7,
   "id": "e69a3050-f824-4476-bcf0-987f5737cb2c",
   "metadata": {},
   "outputs": [
    {
     "name": "stdout",
     "output_type": "stream",
     "text": [
      "Enter the first list:\n"
     ]
    },
    {
     "name": "stdin",
     "output_type": "stream",
     "text": [
      "Enter a list of numbers separated by space:  1 5 6 4 5\n"
     ]
    },
    {
     "name": "stdout",
     "output_type": "stream",
     "text": [
      "Enter the second list:\n"
     ]
    },
    {
     "name": "stdin",
     "output_type": "stream",
     "text": [
      "Enter a list of numbers separated by space:  2 4 5 6 7\n"
     ]
    },
    {
     "name": "stdout",
     "output_type": "stream",
     "text": [
      "Sum of the two lists: 45\n"
     ]
    }
   ],
   "source": [
    "def input_list():\n",
    "   \n",
    "    user_input = input(\"Enter a list of numbers separated by space: \").split()\n",
    "    user_list = [int(x) for x in user_input]\n",
    "    return user_list\n",
    "\n",
    "def main():\n",
    "    # Input the first list\n",
    "    print(\"Enter the first list:\")\n",
    "    list1 = input_list()\n",
    "    \n",
    "    # Input the second list\n",
    "    print(\"Enter the second list:\")\n",
    "    list2 = input_list()\n",
    "    \n",
    "    # Calculate the sum of the two lists\n",
    "    sum_of_lists = sum(list1) + sum(list2)\n",
    "    \n",
    "    # Print the sum\n",
    "    print(\"Sum of the two lists:\", sum_of_lists)\n",
    "\n"
   ]
  },
  {
   "cell_type": "code",
   "execution_count": null,
   "id": "346c556b-8d58-4e4c-9765-478e1bf85eb1",
   "metadata": {},
   "outputs": [],
   "source": []
  }
 ],
 "metadata": {
  "kernelspec": {
   "display_name": "Python 3 (ipykernel)",
   "language": "python",
   "name": "python3"
  },
  "language_info": {
   "codemirror_mode": {
    "name": "ipython",
    "version": 3
   },
   "file_extension": ".py",
   "mimetype": "text/x-python",
   "name": "python",
   "nbconvert_exporter": "python",
   "pygments_lexer": "ipython3",
   "version": "3.11.5"
  }
 },
 "nbformat": 4,
 "nbformat_minor": 5
}
