{
 "cells": [
  {
   "cell_type": "code",
   "execution_count": 42,
   "id": "f740234c-8abb-4e83-9d84-18f4d2620bcd",
   "metadata": {},
   "outputs": [
    {
     "name": "stdout",
     "output_type": "stream",
     "text": [
      "Enter 10 elements to List 1: \n"
     ]
    },
    {
     "name": "stdin",
     "output_type": "stream",
     "text": [
      "Enter element 1:  1\n",
      "Enter element 2:  2\n",
      "Enter element 3:  3\n",
      "Enter element 4:  4\n",
      "Enter element 5:  5\n",
      "Enter element 6:  6\n",
      "Enter element 7:  7\n",
      "Enter element 8:  8\n",
      "Enter element 9:  9\n",
      "Enter element 10:  10\n"
     ]
    },
    {
     "name": "stdout",
     "output_type": "stream",
     "text": [
      "Elements in List 1:  [1, 2, 3, 4, 5, 6, 7, 8, 9, 10]\n"
     ]
    }
   ],
   "source": [
    "print(\"Enter 10 elements to List 1: \")\n",
    "List1 = []\n",
    "for i in range(10):\n",
    "    value = int(input(f\"Enter element {i + 1}: \"))\n",
    "    List1.append(value)\n",
    "\n",
    "print(\"Elements in List 1: \", List1)"
   ]
  },
  {
   "cell_type": "code",
   "execution_count": 43,
   "id": "8bf924ed-a883-4f91-9e38-7d05fa0327c2",
   "metadata": {},
   "outputs": [
    {
     "name": "stdout",
     "output_type": "stream",
     "text": [
      "Enter 10 elements to List 2: \n"
     ]
    },
    {
     "name": "stdin",
     "output_type": "stream",
     "text": [
      "Enter element 1:  11\n",
      "Enter element 2:  12\n",
      "Enter element 3:  13\n",
      "Enter element 4:  14\n",
      "Enter element 5:  15\n",
      "Enter element 6:  16\n",
      "Enter element 7:  17\n",
      "Enter element 8:  18\n",
      "Enter element 9:  19\n",
      "Enter element 10:  20\n"
     ]
    },
    {
     "name": "stdout",
     "output_type": "stream",
     "text": [
      "Elements in List 2:  [11, 12, 13, 14, 15, 16, 17, 18, 19, 20]\n"
     ]
    }
   ],
   "source": [
    "print(\"Enter 10 elements to List 2: \")\n",
    "List2 = []\n",
    "for i in range(10):\n",
    "    value = int(input(f\"Enter element {i + 1}: \"))\n",
    "    List2.append(value)\n",
    "\n",
    "print(\"Elements in List 2: \", List2)"
   ]
  },
  {
   "cell_type": "code",
   "execution_count": 44,
   "id": "c5716d87-4ec0-4616-a0d7-b0f796b707b8",
   "metadata": {},
   "outputs": [],
   "source": [
    "#Insert Operation"
   ]
  },
  {
   "cell_type": "code",
   "execution_count": 45,
   "id": "5d7f7f9a-8a86-4580-bf5b-9ff025e034b2",
   "metadata": {},
   "outputs": [
    {
     "name": "stdin",
     "output_type": "stream",
     "text": [
      "Enter the index to insert into List1:  6\n",
      "Enter the value to insert to the specified index:  45\n"
     ]
    },
    {
     "name": "stdout",
     "output_type": "stream",
     "text": [
      "List 1 after Inserting new value:  [1, 2, 3, 4, 5, 6, 45, 7, 8, 9, 10]\n"
     ]
    }
   ],
   "source": [
    "index = int(input(\"Enter the index to insert into List1: \"))\n",
    "value = int(input(\"Enter the value to insert to the specified index: \"))\n",
    "List1.insert(index, value)\n",
    "print(\"List 1 after Inserting new value: \", List1)"
   ]
  },
  {
   "cell_type": "code",
   "execution_count": 46,
   "id": "2277b6d9-9618-4023-b706-6090b587d373",
   "metadata": {},
   "outputs": [],
   "source": [
    "#Modify operation"
   ]
  },
  {
   "cell_type": "code",
   "execution_count": 47,
   "id": "cbea3d22-b420-4118-8141-fe8fb0ea6847",
   "metadata": {},
   "outputs": [
    {
     "name": "stdin",
     "output_type": "stream",
     "text": [
      "Enter the index to modify in the list 1:  7\n",
      "Enter the new value:  18\n"
     ]
    },
    {
     "name": "stdout",
     "output_type": "stream",
     "text": [
      "List 1 after modification:  [1, 2, 3, 4, 5, 6, 45, 18, 8, 9, 10]\n"
     ]
    }
   ],
   "source": [
    "index = int(input(\"Enter the index to modify in the list 1: \"))\n",
    "value = int(input(\"Enter the new value: \"))\n",
    "List1[index] = value\n",
    "print(\"List 1 after modification: \", List1)"
   ]
  },
  {
   "cell_type": "code",
   "execution_count": 48,
   "id": "cdf80761-9b66-40a4-aeb7-1e618e5d5e34",
   "metadata": {},
   "outputs": [],
   "source": [
    "#pop operation"
   ]
  },
  {
   "cell_type": "code",
   "execution_count": 49,
   "id": "7419f27f-b5d8-408a-903c-7c1400be5604",
   "metadata": {},
   "outputs": [
    {
     "name": "stdin",
     "output_type": "stream",
     "text": [
      "Enter the index to be popped:  2\n"
     ]
    },
    {
     "name": "stdout",
     "output_type": "stream",
     "text": [
      "\n",
      "Element popped from List 1:  3\n"
     ]
    }
   ],
   "source": [
    "index = int(input(\"Enter the index to be popped: \"))\n",
    "value_popped = List1.pop(index)\n",
    "print(\"\\nElement popped from List 1: \", value_popped)"
   ]
  },
  {
   "cell_type": "code",
   "execution_count": 50,
   "id": "ad9bda71-0897-4fb4-8fb8-dbd914a00133",
   "metadata": {},
   "outputs": [],
   "source": [
    "#Concatenation"
   ]
  },
  {
   "cell_type": "code",
   "execution_count": 51,
   "id": "a5120173-dbd4-4574-9402-0ca74ac2e1e0",
   "metadata": {},
   "outputs": [
    {
     "name": "stdout",
     "output_type": "stream",
     "text": [
      "Concatenated List:  [1, 2, 4, 5, 6, 45, 18, 8, 9, 10, 11, 12, 13, 14, 15, 16, 17, 18, 19, 20]\n"
     ]
    }
   ],
   "source": [
    "concatenated_list = List1 + List2\n",
    "print(\"Concatenated List: \", concatenated_list)"
   ]
  },
  {
   "cell_type": "code",
   "execution_count": 52,
   "id": "43ca7f0f-f836-41b1-8e03-d8849f95511b",
   "metadata": {},
   "outputs": [],
   "source": [
    "#Repetition"
   ]
  },
  {
   "cell_type": "code",
   "execution_count": 53,
   "id": "773dce5e-833c-48db-86f8-3028de21ee5c",
   "metadata": {},
   "outputs": [
    {
     "name": "stdin",
     "output_type": "stream",
     "text": [
      "Enter the number of repetition:  2\n"
     ]
    },
    {
     "name": "stdout",
     "output_type": "stream",
     "text": [
      "Repeated List:  [1, 2, 4, 5, 6, 45, 18, 8, 9, 10, 1, 2, 4, 5, 6, 45, 18, 8, 9, 10]\n"
     ]
    }
   ],
   "source": [
    "repetition = int(input(\"Enter the number of repetition: \"))\n",
    "repeated_list = List1 * (repetition)\n",
    "print(\"Repeated List: \", repeated_list)"
   ]
  },
  {
   "cell_type": "code",
   "execution_count": null,
   "id": "9d68a5a1-11dc-43ab-921c-eb5a9ece4e52",
   "metadata": {},
   "outputs": [],
   "source": []
  }
 ],
 "metadata": {
  "kernelspec": {
   "display_name": "Python 3 (ipykernel)",
   "language": "python",
   "name": "python3"
  },
  "language_info": {
   "codemirror_mode": {
    "name": "ipython",
    "version": 3
   },
   "file_extension": ".py",
   "mimetype": "text/x-python",
   "name": "python",
   "nbconvert_exporter": "python",
   "pygments_lexer": "ipython3",
   "version": "3.11.5"
  }
 },
 "nbformat": 4,
 "nbformat_minor": 5
}
