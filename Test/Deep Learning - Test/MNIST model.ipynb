{
 "cells": [
  {
   "cell_type": "markdown",
   "id": "0f421602-7f98-4bce-a450-72a5aaf472b1",
   "metadata": {},
   "source": [
    "# Load MNIST Dataset and build a Deep Learning Model."
   ]
  },
  {
   "cell_type": "markdown",
   "id": "f90aab84-e20e-446c-a621-8739766d03ae",
   "metadata": {},
   "source": [
    "### Things to be done:\n",
    "    1- Load the MNIST Data\n",
    "    2- Divide the data into train and test sets\n",
    "    3- Plot the first 10 images using imshow()\n",
    "    4- Convert images to categorical format\n",
    "    5- Create a sequential model\n",
    "    6- Plot the model summary\n",
    "    7- Plot the architecture of the model with its layer shapes\n",
    "    8- Compile the model\n",
    "    9- Fit the model with 20 epochs (as per your desktop configuration)\n",
    "    10- Plot Training and Testing Loss\n",
    "    11- Save the model in .h5 extension\n",
    "    12- Load the model\n",
    "    13- Test the model"
   ]
  },
  {
   "cell_type": "code",
   "execution_count": 1,
   "id": "4af13add-aee4-448c-ab1d-93cf0e7e8ece",
   "metadata": {},
   "outputs": [
    {
     "name": "stdout",
     "output_type": "stream",
     "text": [
      "WARNING:tensorflow:From C:\\Users\\Ajupo\\anaconda3\\envs\\environment_1\\Lib\\site-packages\\keras\\src\\losses.py:2976: The name tf.losses.sparse_softmax_cross_entropy is deprecated. Please use tf.compat.v1.losses.sparse_softmax_cross_entropy instead.\n",
      "\n"
     ]
    }
   ],
   "source": [
    "#importing the necessary libraries\n",
    "import tensorflow as tf\n",
    "from tensorflow.keras.datasets import mnist\n",
    "from tensorflow.keras.models import Sequential\n",
    "from tensorflow.keras.layers import Dense, Flatten\n",
    "from tensorflow.keras.utils import to_categorical\n",
    "import matplotlib.pyplot as plt\n",
    "\n",
    "import warnings\n",
    "warnings.filterwarnings('ignore')"
   ]
  },
  {
   "cell_type": "markdown",
   "id": "49e1621a-0907-4efc-acdf-259699d56667",
   "metadata": {},
   "source": [
    "#### Loads the MNIST dataset, splitting it into training and testing sets"
   ]
  },
  {
   "cell_type": "code",
   "execution_count": 2,
   "id": "cb3687cd-a7fc-4113-a017-198e0e1d0449",
   "metadata": {},
   "outputs": [],
   "source": [
    "(x_train, y_train), (x_test, y_test) = mnist.load_data()"
   ]
  },
  {
   "cell_type": "code",
   "execution_count": 3,
   "id": "3f811689-163c-4ef6-8b05-8d2da7ccbab5",
   "metadata": {},
   "outputs": [
    {
     "name": "stdout",
     "output_type": "stream",
     "text": [
      "(60000, 28, 28)\n"
     ]
    }
   ],
   "source": [
    "# Display the shape of the x_train array\n",
    "print(x_train.shape)"
   ]
  },
  {
   "cell_type": "code",
   "execution_count": 4,
   "id": "27d34b62-626b-4aed-90a9-865c65a3b801",
   "metadata": {},
   "outputs": [
    {
     "name": "stdout",
     "output_type": "stream",
     "text": [
      "(10000,)\n"
     ]
    }
   ],
   "source": [
    "# Display the shape of the y_test array\n",
    "print(y_test.shape)"
   ]
  },
  {
   "cell_type": "markdown",
   "id": "0b3f45cb-f371-4260-9aa0-c74710b169da",
   "metadata": {},
   "source": [
    "### Plot the first 10 images using imshow()"
   ]
  },
  {
   "cell_type": "code",
   "execution_count": 5,
   "id": "5c415565-91c2-4870-8a5d-ac77bc9ff271",
   "metadata": {},
   "outputs": [
    {
     "data": {
      "image/png": "[encoded data removed]",
      "text/plain": [
       "<Figure size 2000x400 with 10 Axes>"
      ]
     },
     "metadata": {},
     "output_type": "display_data"
    }
   ],
   "source": [
    "fig, axes = plt.subplots(ncols=10, sharex=False, sharey=True, figsize= (20,4))\n",
    "for i in range(10):\n",
    "    axes[i].set_title(y_train[i])\n",
    "    axes[i].imshow(x_train[i], cmap='gray')\n",
    "    axes[i].get_xaxis().set_visible(False)\n",
    "    axes[i].get_yaxis().set_visible(False)\n",
    "\n",
    "plt.show()"
   ]
  },
  {
   "cell_type": "markdown",
   "id": "a85d248d-765d-427c-b246-f09ff6fdd958",
   "metadata": {},
   "source": [
    "#### Convert the labels to one-hot encoded format for multi-class classification"
   ]
  },
  {
   "cell_type": "code",
   "execution_count": 6,
   "id": "387fbaad-5674-46cf-ae23-57e0530ccdfc",
   "metadata": {},
   "outputs": [],
   "source": [
    "y_train = to_categorical(y_train)\n",
    "y_test = to_categorical(y_test)"
   ]
  },
  {
   "cell_type": "code",
   "execution_count": 7,
   "id": "73eca267-8f2e-416c-9deb-04cca5f57298",
   "metadata": {},
   "outputs": [
    {
     "name": "stdout",
     "output_type": "stream",
     "text": [
      "[[0. 0. 0. ... 0. 0. 0.]\n",
      " [1. 0. 0. ... 0. 0. 0.]\n",
      " [0. 0. 0. ... 0. 0. 0.]\n",
      " ...\n",
      " [0. 0. 0. ... 0. 0. 0.]\n",
      " [0. 0. 0. ... 0. 0. 0.]\n",
      " [0. 0. 0. ... 0. 1. 0.]]\n"
     ]
    }
   ],
   "source": [
    "print(y_train)"
   ]
  },
  {
   "cell_type": "code",
   "execution_count": 8,
   "id": "73c15a61-c8e8-4a56-b71a-849581ac5f91",
   "metadata": {},
   "outputs": [
    {
     "name": "stdout",
     "output_type": "stream",
     "text": [
      "[[0. 0. 0. ... 1. 0. 0.]\n",
      " [0. 0. 1. ... 0. 0. 0.]\n",
      " [0. 1. 0. ... 0. 0. 0.]\n",
      " ...\n",
      " [0. 0. 0. ... 0. 0. 0.]\n",
      " [0. 0. 0. ... 0. 0. 0.]\n",
      " [0. 0. 0. ... 0. 0. 0.]]\n"
     ]
    }
   ],
   "source": [
    "print(y_test)"
   ]
  },
  {
   "cell_type": "code",
   "execution_count": 9,
   "id": "976c1e15-b245-4dde-97fe-6c219977e5b4",
   "metadata": {},
   "outputs": [
    {
     "name": "stdout",
     "output_type": "stream",
     "text": [
      "(10000, 10)\n"
     ]
    }
   ],
   "source": [
    "print(y_test.shape)"
   ]
  },
  {
   "cell_type": "markdown",
   "id": "a0338d6b-67d6-4253-9249-8714bb5aba3e",
   "metadata": {},
   "source": [
    "#### Defines a sequential model with a flattening layer and dense layers using ReLU and softmax activations."
   ]
  },
  {
   "cell_type": "code",
   "execution_count": 10,
   "id": "6c770ce6-678d-4313-96f5-3a2006ebb9ab",
   "metadata": {},
   "outputs": [
    {
     "name": "stdout",
     "output_type": "stream",
     "text": [
      "WARNING:tensorflow:From C:\\Users\\Ajupo\\anaconda3\\envs\\environment_1\\Lib\\site-packages\\keras\\src\\backend.py:873: The name tf.get_default_graph is deprecated. Please use tf.compat.v1.get_default_graph instead.\n",
      "\n"
     ]
    }
   ],
   "source": [
    "# Define a Sequential model, which allows adding layers sequentially\n",
    "model = Sequential([\n",
    "    Flatten(input_shape = (28,28)), # Add a Flatten layer to convert the 28x28 input images into a 1D array\n",
    "    Dense(128, activation='relu'),  # First hidden layer with 128 neurons and ReLU as activation function\n",
    "    Dense(64, activation='relu'),   # Second Hidden layer with 64 neurons and ReLU as activation function\n",
    "    \n",
    "# Add the output layer with 10 neurons (one for each class) and 'softmax' activation function\n",
    "# Softmax is used for multi-class classification to output probabilities for each class\n",
    "    Dense(10, activation='softmax')\n",
    "])"
   ]
  },
  {
   "cell_type": "markdown",
   "id": "e5e155b1-509d-44f3-8ff7-ecfea8d154b7",
   "metadata": {},
   "source": [
    "#### Display a summary of the model architecture, including the number of parameters in each layer"
   ]
  },
  {
   "cell_type": "code",
   "execution_count": 11,
   "id": "6159e7f9-c267-4325-b195-6057dbb0828e",
   "metadata": {},
   "outputs": [
    {
     "name": "stdout",
     "output_type": "stream",
     "text": [
      "Model: \"sequential\"\n",
      "_________________________________________________________________\n",
      " Layer (type)                Output Shape              Param #   \n",
      "=================================================================\n",
      " flatten (Flatten)           (None, 784)               0         \n",
      "                                                                 \n",
      " dense (Dense)               (None, 128)               100480    \n",
      "                                                                 \n",
      " dense_1 (Dense)             (None, 64)                8256      \n",
      "                                                                 \n",
      " dense_2 (Dense)             (None, 10)                650       \n",
      "                                                                 \n",
      "=================================================================\n",
      "Total params: 109386 (427.29 KB)\n",
      "Trainable params: 109386 (427.29 KB)\n",
      "Non-trainable params: 0 (0.00 Byte)\n",
      "_________________________________________________________________\n"
     ]
    }
   ],
   "source": [
    "model.summary()"
   ]
  },
  {
   "cell_type": "markdown",
   "id": "8f2d834e-5cfb-4bc5-9720-a2e0b63af281",
   "metadata": {},
   "source": [
    "### Plot the architecture of the model with its layer shapes"
   ]
  },
  {
   "cell_type": "code",
   "execution_count": 12,
   "id": "24c2b99e-5096-4535-a596-d5a50c016cda",
   "metadata": {},
   "outputs": [
    {
     "data": {
      "image/png": "[encoded data removed]",
      "text/plain": [
       "<IPython.core.display.Image object>"
      ]
     },
     "execution_count": 12,
     "metadata": {},
     "output_type": "execute_result"
    }
   ],
   "source": [
    "from tensorflow.keras import utils\n",
    "# Visualize the architecture of the model with its layer shapes\n",
    "utils.plot_model(model, show_shapes=True)"
   ]
  },
  {
   "cell_type": "markdown",
   "id": "a9dc04d3-32f2-4ef2-8a04-9322812e4440",
   "metadata": {},
   "source": [
    "### Complie the Model"
   ]
  },
  {
   "cell_type": "code",
   "execution_count": 13,
   "id": "03b4cfa7-56aa-4c65-b089-ede9013f6ec7",
   "metadata": {},
   "outputs": [
    {
     "name": "stdout",
     "output_type": "stream",
     "text": [
      "WARNING:tensorflow:From C:\\Users\\Ajupo\\anaconda3\\envs\\environment_1\\Lib\\site-packages\\keras\\src\\optimizers\\__init__.py:309: The name tf.train.Optimizer is deprecated. Please use tf.compat.v1.train.Optimizer instead.\n",
      "\n"
     ]
    }
   ],
   "source": [
    "model.compile(loss='categorical_crossentropy', optimizer='adam', metrics=['acc'])"
   ]
  },
  {
   "cell_type": "markdown",
   "id": "2405de78-24ec-475b-8241-616b9f853793",
   "metadata": {},
   "source": [
    "### Fit the model with 20 epochs"
   ]
  },
  {
   "cell_type": "code",
   "execution_count": 15,
   "id": "8496aa27-7152-4dff-8ce7-cf131d7246d2",
   "metadata": {},
   "outputs": [
    {
     "name": "stdout",
     "output_type": "stream",
     "text": [
      "Epoch 1/20\n",
      "WARNING:tensorflow:From C:\\Users\\Ajupo\\anaconda3\\envs\\environment_1\\Lib\\site-packages\\keras\\src\\utils\\tf_utils.py:492: The name tf.ragged.RaggedTensorValue is deprecated. Please use tf.compat.v1.ragged.RaggedTensorValue instead.\n",
      "\n",
      "WARNING:tensorflow:From C:\\Users\\Ajupo\\anaconda3\\envs\\environment_1\\Lib\\site-packages\\keras\\src\\engine\\base_layer_utils.py:384: The name tf.executing_eagerly_outside_functions is deprecated. Please use tf.compat.v1.executing_eagerly_outside_functions instead.\n",
      "\n",
      "1875/1875 [==============================] - 5s 2ms/step - loss: 1.6778 - acc: 0.8570 - val_loss: 0.3476 - val_acc: 0.9098\n",
      "Epoch 2/20\n",
      "1875/1875 [==============================] - 4s 2ms/step - loss: 0.2938 - acc: 0.9231 - val_loss: 0.2506 - val_acc: 0.9331\n",
      "Epoch 3/20\n",
      "1875/1875 [==============================] - 4s 2ms/step - loss: 0.2036 - acc: 0.9448 - val_loss: 0.1903 - val_acc: 0.9449\n",
      "Epoch 4/20\n",
      "1875/1875 [==============================] - 4s 2ms/step - loss: 0.1699 - acc: 0.9527 - val_loss: 0.1507 - val_acc: 0.9616\n",
      "Epoch 5/20\n",
      "1875/1875 [==============================] - 4s 2ms/step - loss: 0.1431 - acc: 0.9602 - val_loss: 0.1624 - val_acc: 0.9577\n",
      "Epoch 6/20\n",
      "1875/1875 [==============================] - 4s 2ms/step - loss: 0.1260 - acc: 0.9651 - val_loss: 0.1634 - val_acc: 0.9567\n",
      "Epoch 7/20\n",
      "1875/1875 [==============================] - 4s 2ms/step - loss: 0.1075 - acc: 0.9695 - val_loss: 0.1686 - val_acc: 0.9571\n",
      "Epoch 8/20\n",
      "1875/1875 [==============================] - 4s 2ms/step - loss: 0.1047 - acc: 0.9714 - val_loss: 0.1522 - val_acc: 0.9627\n",
      "Epoch 9/20\n",
      "1875/1875 [==============================] - 4s 2ms/step - loss: 0.0963 - acc: 0.9739 - val_loss: 0.1328 - val_acc: 0.9648\n",
      "Epoch 10/20\n",
      "1875/1875 [==============================] - 4s 2ms/step - loss: 0.0897 - acc: 0.9755 - val_loss: 0.1840 - val_acc: 0.9662\n",
      "Epoch 11/20\n",
      "1875/1875 [==============================] - 4s 2ms/step - loss: 0.0839 - acc: 0.9773 - val_loss: 0.1625 - val_acc: 0.9648\n",
      "Epoch 12/20\n",
      "1875/1875 [==============================] - 4s 2ms/step - loss: 0.0810 - acc: 0.9788 - val_loss: 0.1596 - val_acc: 0.9615\n",
      "Epoch 13/20\n",
      "1875/1875 [==============================] - 3s 2ms/step - loss: 0.0770 - acc: 0.9794 - val_loss: 0.1728 - val_acc: 0.9613\n",
      "Epoch 14/20\n",
      "1875/1875 [==============================] - 4s 2ms/step - loss: 0.0697 - acc: 0.9812 - val_loss: 0.1945 - val_acc: 0.9607\n",
      "Epoch 15/20\n",
      "1875/1875 [==============================] - 4s 2ms/step - loss: 0.0690 - acc: 0.9816 - val_loss: 0.2020 - val_acc: 0.9633\n",
      "Epoch 16/20\n",
      "1875/1875 [==============================] - 4s 2ms/step - loss: 0.0740 - acc: 0.9818 - val_loss: 0.1829 - val_acc: 0.9706\n",
      "Epoch 17/20\n",
      "1875/1875 [==============================] - 4s 2ms/step - loss: 0.0622 - acc: 0.9835 - val_loss: 0.1932 - val_acc: 0.9608\n",
      "Epoch 18/20\n",
      "1875/1875 [==============================] - 4s 2ms/step - loss: 0.0604 - acc: 0.9846 - val_loss: 0.1550 - val_acc: 0.9705\n",
      "Epoch 19/20\n",
      "1875/1875 [==============================] - 4s 2ms/step - loss: 0.0619 - acc: 0.9840 - val_loss: 0.1546 - val_acc: 0.9704\n",
      "Epoch 20/20\n",
      "1875/1875 [==============================] - 5s 3ms/step - loss: 0.0559 - acc: 0.9861 - val_loss: 0.1741 - val_acc: 0.9706\n"
     ]
    }
   ],
   "source": [
    "history = model.fit(x_train, y_train, epochs=20, validation_data=(x_test, y_test))"
   ]
  },
  {
   "cell_type": "markdown",
   "id": "744edc12-a608-4372-9783-f22006415bb2",
   "metadata": {},
   "source": [
    "### Plot Training and Testing Loss"
   ]
  },
  {
   "cell_type": "code",
   "execution_count": 16,
   "id": "3fda4bb2-3e44-489b-910a-7007b5a936fe",
   "metadata": {},
   "outputs": [
    {
     "data": {
      "image/png": "[encoded data removed]",
      "text/plain": [
       "<Figure size 640x480 with 1 Axes>"
      ]
     },
     "metadata": {},
     "output_type": "display_data"
    }
   ],
   "source": [
    "plt.plot(history.history['loss'], label='Train Loss')\n",
    "plt.plot(history.history['val_loss'], label='Validation Loss')\n",
    "plt.xlabel('Epoch')\n",
    "plt.ylabel('Loss')\n",
    "plt.ylim([0, 1])\n",
    "plt.legend(loc='upper right')\n",
    "plt.title('Training and Validation Loss')\n",
    "\n",
    "plt.show()"
   ]
  },
  {
   "cell_type": "markdown",
   "id": "398858f2-f34c-4d2e-a50e-176cdbb47676",
   "metadata": {},
   "source": [
    "### Save the model in .h5 extension"
   ]
  },
  {
   "cell_type": "code",
   "execution_count": 18,
   "id": "2e50812f-6c58-4789-942b-dc44332d0a93",
   "metadata": {},
   "outputs": [],
   "source": [
    "# Saving the trained model to a file \n",
    "model.save('mnist_model1.h5')"
   ]
  },
  {
   "cell_type": "code",
   "execution_count": null,
   "id": "a57e0be8-5588-4725-b53f-33693e9e514e",
   "metadata": {},
   "outputs": [],
   "source": []
  }
 ],
 "metadata": {
  "kernelspec": {
   "display_name": "Python 3 (ipykernel)",
   "language": "python",
   "name": "python3"
  },
  "language_info": {
   "codemirror_mode": {
    "name": "ipython",
    "version": 3
   },
   "file_extension": ".py",
   "mimetype": "text/x-python",
   "name": "python",
   "nbconvert_exporter": "python",
   "pygments_lexer": "ipython3",
   "version": "3.11.5"
  }
 },
 "nbformat": 4,
 "nbformat_minor": 5
}
